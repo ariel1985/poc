{
  "nbformat": 4,
  "nbformat_minor": 0,
  "metadata": {
    "colab": {
      "provenance": [],
      "gpuType": "T4"
    },
    "kernelspec": {
      "name": "python3",
      "display_name": "Python 3"
    },
    "language_info": {
      "name": "python"
    },
    "accelerator": "GPU"
  },
  "cells": [
    {
      "cell_type": "code",
      "execution_count": null,
      "metadata": {
        "colab": {
          "base_uri": "https://localhost:8080/"
        },
        "id": "0sUwwUFvIS7u",
        "outputId": "2ca5f5b6-c301-4672-e530-654c6ed287fb"
      },
      "outputs": [
        {
          "output_type": "stream",
          "name": "stdout",
          "text": [
            "Python 3.10.12\n"
          ]
        }
      ],
      "source": [
        "!python --version"
      ]
    },
    {
      "cell_type": "code",
      "source": [
        "!apt install rustc && apt install cargo"
      ],
      "metadata": {
        "id": "O9GLrok_IpIU"
      },
      "execution_count": null,
      "outputs": []
    },
    {
      "cell_type": "code",
      "source": [
        "!pip install rasa[transformers]==3.6.15"
      ],
      "metadata": {
        "id": "f5jwr0onIxur"
      },
      "execution_count": null,
      "outputs": []
    },
    {
      "cell_type": "code",
      "source": [
        "!pip install nest-asyncio==1.5.6\n",
        "!pip install --upgrade ipykernel"
      ],
      "metadata": {
        "id": "CPYqxYBII_4M"
      },
      "execution_count": null,
      "outputs": []
    },
    {
      "cell_type": "markdown",
      "source": [
        "## Your First Rasa Project"
      ],
      "metadata": {
        "id": "Uf6qP8aUJqAw"
      }
    },
    {
      "cell_type": "code",
      "source": [
        "!cd /content && rasa init"
      ],
      "metadata": {
        "id": "Qwgz6uhpJvBh"
      },
      "execution_count": null,
      "outputs": []
    },
    {
      "cell_type": "code",
      "source": [
        "!cd /content/rasademo && rasa train nlu"
      ],
      "metadata": {
        "id": "wLS6FaS6Llbn"
      },
      "execution_count": null,
      "outputs": []
    },
    {
      "cell_type": "markdown",
      "source": [
        "## Test the Model"
      ],
      "metadata": {
        "id": "p1QPqSrONn_V"
      }
    },
    {
      "cell_type": "code",
      "source": [
        "import asyncio\n",
        "from rasa.core.agent import Agent\n",
        "\n",
        "import nest_asyncio\n",
        "nest_asyncio.apply()"
      ],
      "metadata": {
        "id": "MhgSTV8QMJSs"
      },
      "execution_count": null,
      "outputs": []
    },
    {
      "cell_type": "code",
      "source": [
        "model = Agent.load(model_path='/content/rasademo/models/nlu-20231222-112511-isochoric-sandwich.tar.gz')"
      ],
      "metadata": {
        "id": "fzRFbL4jMTmN"
      },
      "execution_count": null,
      "outputs": []
    },
    {
      "cell_type": "code",
      "source": [
        "message = \"C'est un film tellement incroyable\"\n",
        "\n",
        "pred = asyncio.run(\n",
        "    model.parse_message( message_data = message )\n",
        ")"
      ],
      "metadata": {
        "colab": {
          "base_uri": "https://localhost:8080/"
        },
        "id": "MSzXse9TMifD",
        "outputId": "13be47ca-a4f1-4587-ef7b-1ba386d0c89b"
      },
      "execution_count": 38,
      "outputs": [
        {
          "output_type": "stream",
          "name": "stdout",
          "text": [
            "\u001b[2m2023-12-22 11:38:39\u001b[0m [\u001b[32m\u001b[1mdebug    \u001b[0m] \u001b[1mprocessor.message.parse       \u001b[0m \u001b[36mparse_data_entities\u001b[0m=\u001b[35m[]\u001b[0m \u001b[36mparse_data_intent\u001b[0m=\u001b[35m{'name': 'mood_great', 'confidence': 0.9995537400245667}\u001b[0m \u001b[36mparse_data_text\u001b[0m=\u001b[35mC'est un film tellement incroyable\u001b[0m\n"
          ]
        }
      ]
    },
    {
      "cell_type": "code",
      "source": [
        "pred"
      ],
      "metadata": {
        "id": "TW0Q1-wcT3K5"
      },
      "execution_count": null,
      "outputs": []
    },
    {
      "cell_type": "code",
      "source": [
        "pred['intent']['name']"
      ],
      "metadata": {
        "colab": {
          "base_uri": "https://localhost:8080/",
          "height": 35
        },
        "id": "31NICcprM99_",
        "outputId": "7e031eee-64df-412e-ced5-5de6d694e719"
      },
      "execution_count": 39,
      "outputs": [
        {
          "output_type": "execute_result",
          "data": {
            "text/plain": [
              "'mood_great'"
            ],
            "application/vnd.google.colaboratory.intrinsic+json": {
              "type": "string"
            }
          },
          "metadata": {},
          "execution_count": 39
        }
      ]
    },
    {
      "cell_type": "code",
      "source": [
        "! cd /content && zip -r rasademo.zip rasademo"
      ],
      "metadata": {
        "id": "85ItVD51UOVy"
      },
      "execution_count": null,
      "outputs": []
    }
  ]
}