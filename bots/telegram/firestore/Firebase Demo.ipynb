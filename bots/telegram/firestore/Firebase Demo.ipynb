{
 "cells": [
  {
   "cell_type": "code",
   "execution_count": 1,
   "id": "5d6bd1f5",
   "metadata": {},
   "outputs": [],
   "source": [
    "# import required modules\n",
    "import firebase_admin\n",
    "from firebase_admin import db, credentials"
   ]
  },
  {
   "cell_type": "code",
   "execution_count": 2,
   "id": "cda78e26",
   "metadata": {},
   "outputs": [
    {
     "data": {
      "text/plain": [
       "<firebase_admin.App at 0x2800fef1400>"
      ]
     },
     "execution_count": 2,
     "metadata": {},
     "output_type": "execute_result"
    }
   ],
   "source": [
    "# authenticate to firebase\n",
    "cred = credentials.Certificate(\"credentials.json\")\n",
    "firebase_admin.initialize_app(cred, {\"databaseURL\": \"https://testproject-ac656-default-rtdb.asia-southeast1.firebasedatabase.app/\"})"
   ]
  },
  {
   "cell_type": "code",
   "execution_count": 3,
   "id": "4a3f1534",
   "metadata": {},
   "outputs": [],
   "source": [
    "# creating reference to root node\n",
    "ref = db.reference(\"/\")"
   ]
  },
  {
   "cell_type": "code",
   "execution_count": 4,
   "id": "291cac1b",
   "metadata": {},
   "outputs": [
    {
     "data": {
      "text/plain": [
       "{'language': 'Python',\n",
       " 'name': 'All About Python',\n",
       " 'title_count': 0,\n",
       " 'titles': ['send email in python', 'create excel in python'],\n",
       " 'url': 'https://youtube.com/AllAboutPython',\n",
       " 'videos': [1, 2, 3]}"
      ]
     },
     "execution_count": 4,
     "metadata": {},
     "output_type": "execute_result"
    }
   ],
   "source": [
    "# retrieving data from root node\n",
    "ref.get()"
   ]
  },
  {
   "cell_type": "code",
   "execution_count": 5,
   "id": "87e5f842",
   "metadata": {},
   "outputs": [
    {
     "data": {
      "text/plain": [
       "'All About Python'"
      ]
     },
     "execution_count": 5,
     "metadata": {},
     "output_type": "execute_result"
    }
   ],
   "source": [
    "db.reference(\"/name\").get()"
   ]
  },
  {
   "cell_type": "code",
   "execution_count": 6,
   "id": "5ff9866a",
   "metadata": {},
   "outputs": [
    {
     "data": {
      "text/plain": [
       "{'language': 'Python',\n",
       " 'name': 'All About Python',\n",
       " 'title_count': 0,\n",
       " 'titles': ['send email in python', 'create excel in python'],\n",
       " 'url': 'https://youtube.com/AllAboutPython',\n",
       " 'videos': 3}"
      ]
     },
     "execution_count": 6,
     "metadata": {},
     "output_type": "execute_result"
    }
   ],
   "source": [
    "# set operation\n",
    "db.reference(\"/videos\").set(3)\n",
    "ref.get()"
   ]
  },
  {
   "cell_type": "code",
   "execution_count": 7,
   "id": "25abab43",
   "metadata": {},
   "outputs": [
    {
     "data": {
      "text/plain": [
       "{'language': 'python',\n",
       " 'name': 'All About Python',\n",
       " 'title_count': 0,\n",
       " 'titles': ['send email in python', 'create excel in python'],\n",
       " 'url': 'https://youtube.com/AllAboutPython',\n",
       " 'videos': 3}"
      ]
     },
     "execution_count": 7,
     "metadata": {},
     "output_type": "execute_result"
    }
   ],
   "source": [
    "# update operation (update existing value)\n",
    "db.reference(\"/\").update({\"language\": \"python\"})\n",
    "ref.get()"
   ]
  },
  {
   "cell_type": "code",
   "execution_count": 8,
   "id": "55010565",
   "metadata": {},
   "outputs": [
    {
     "data": {
      "text/plain": [
       "{'language': 'python',\n",
       " 'name': 'All About Python',\n",
       " 'subscribed': True,\n",
       " 'title_count': 0,\n",
       " 'titles': ['send email in python', 'create excel in python'],\n",
       " 'url': 'https://youtube.com/AllAboutPython',\n",
       " 'videos': 3}"
      ]
     },
     "execution_count": 8,
     "metadata": {},
     "output_type": "execute_result"
    }
   ],
   "source": [
    "# update operation (add new key value)\n",
    "db.reference(\"/\").update({\"subscribed\": True})\n",
    "ref.get()"
   ]
  },
  {
   "cell_type": "code",
   "execution_count": 9,
   "id": "923a220a",
   "metadata": {},
   "outputs": [
    {
     "data": {
      "text/plain": [
       "{'language': 'python',\n",
       " 'name': 'All About Python',\n",
       " 'subscribed': True,\n",
       " 'title_count': 0,\n",
       " 'titles': {'0': 'send email in python',\n",
       "  '1': 'create excel in python',\n",
       "  '-NS_AHc4EiFqorc47wPo': 'create modern ui in python'},\n",
       " 'url': 'https://youtube.com/AllAboutPython',\n",
       " 'videos': 3}"
      ]
     },
     "execution_count": 9,
     "metadata": {},
     "output_type": "execute_result"
    }
   ],
   "source": [
    "# push operation\n",
    "db.reference(\"/titles\").push().set(\"create modern ui in python\")\n",
    "ref.get()"
   ]
  },
  {
   "cell_type": "code",
   "execution_count": 10,
   "id": "b2bda9eb",
   "metadata": {},
   "outputs": [
    {
     "data": {
      "text/plain": [
       "{'language': 'python',\n",
       " 'name': 'All About Python',\n",
       " 'subscribed': True,\n",
       " 'title_count': 1,\n",
       " 'titles': {'0': 'send email in python',\n",
       "  '1': 'create excel in python',\n",
       "  '-NS_AHc4EiFqorc47wPo': 'create modern ui in python'},\n",
       " 'url': 'https://youtube.com/AllAboutPython',\n",
       " 'videos': 3}"
      ]
     },
     "execution_count": 10,
     "metadata": {},
     "output_type": "execute_result"
    }
   ],
   "source": [
    "# transaction\n",
    "def increment_transaction(current_val):\n",
    "    return current_val + 1\n",
    "\n",
    "db.reference(\"/title_count\").transaction(increment_transaction)\n",
    "ref.get()"
   ]
  },
  {
   "cell_type": "raw",
   "id": "28721440",
   "metadata": {},
   "source": [
    "# delete operation\n",
    "db.reference(\"/language\").delete()\n",
    "ref.get()"
   ]
  },
  {
   "cell_type": "code",
   "execution_count": 15,
   "id": "9048a56f",
   "metadata": {},
   "outputs": [
    {
     "name": "stdout",
     "output_type": "stream",
     "text": [
      "None\n"
     ]
    }
   ],
   "source": [
    "print(ref.key)"
   ]
  }
 ],
 "metadata": {
  "kernelspec": {
   "display_name": "Python 3 (ipykernel)",
   "language": "python",
   "name": "python3"
  },
  "language_info": {
   "codemirror_mode": {
    "name": "ipython",
    "version": 3
   },
   "file_extension": ".py",
   "mimetype": "text/x-python",
   "name": "python",
   "nbconvert_exporter": "python",
   "pygments_lexer": "ipython3",
   "version": "3.9.6"
  }
 },
 "nbformat": 4,
 "nbformat_minor": 5
}
